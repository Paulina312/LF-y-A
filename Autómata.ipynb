{
  "nbformat": 4,
  "nbformat_minor": 0,
  "metadata": {
    "colab": {
      "name": "Autómata.ipynb",
      "provenance": [],
      "collapsed_sections": [],
      "authorship_tag": "ABX9TyNdCfHW/fXyjVTAfKpTUQKa",
      "include_colab_link": true
    },
    "kernelspec": {
      "name": "python3",
      "display_name": "Python 3"
    }
  },
  "cells": [
    {
      "cell_type": "markdown",
      "metadata": {
        "id": "view-in-github",
        "colab_type": "text"
      },
      "source": [
        "<a href=\"https://colab.research.google.com/github/Paulina312/LF-y-A/blob/main/Aut%C3%B3mata.ipynb\" target=\"_parent\"><img src=\"https://colab.research.google.com/assets/colab-badge.svg\" alt=\"Open In Colab\"/></a>"
      ]
    },
    {
      "cell_type": "code",
      "metadata": {
        "id": "jwZ58hq87ZY9"
      },
      "source": [
        "def automata(palabra):\r\n",
        "  lista = list(palabra)\r\n",
        "  aceptada = False \r\n",
        "  if lista[0] == 'a':\r\n",
        "    if lista[1]== 'b':\r\n",
        "      if lista[2]== 'c':\r\n",
        "        n = 3\r\n",
        "        for element in lista[n:-3]:\r\n",
        "          n = n+1\r\n",
        "          if lista[n] == 'a':\r\n",
        "            if lista[n+1] == 'a':\r\n",
        "              if lista[n+2] == 'a':\r\n",
        "                break\r\n",
        "            else:\r\n",
        "              continue\r\n",
        "          if lista[n] == 'b':\r\n",
        "            continue\r\n",
        "          if lista[n] == 'd':\r\n",
        "            continue\r\n",
        "          if lista[n] == 'c':\r\n",
        "            if lista[n+1] == 'c':\r\n",
        "              if lista[n+2] == 'c':\r\n",
        "                break\r\n",
        "            else:\r\n",
        "              continue\r\n",
        "          else:\r\n",
        "            break\r\n",
        "        n = n+2\r\n",
        "        for element in lista[n:-1]:\r\n",
        "          n = n+1\r\n",
        "          if lista[n] == 'a':\r\n",
        "            continue\r\n",
        "          if lista[n] == 'b':\r\n",
        "            if lista[n+1] == 'b':\r\n",
        "              if lista[n+2] == 'a':\r\n",
        "                aceptada = True\r\n",
        "                break\r\n",
        "            continue\r\n",
        "          if lista[n] == 'c':\r\n",
        "            continue\r\n",
        "          if lista[n] == 'd':\r\n",
        "            continue\r\n",
        "  #-----------------------------------------------------------\r\n",
        "  elif lista[0] == 'c':\r\n",
        "    if lista[1]== 'd':\r\n",
        "      if lista[2]== 'a':\r\n",
        "        n = 3\r\n",
        "        for element in lista[n:-3]:\r\n",
        "          n = n+1\r\n",
        "          if lista[n] == 'a':\r\n",
        "            if lista[n+1] == 'a':\r\n",
        "              if lista[n+2] == 'a':\r\n",
        "                break\r\n",
        "            else:\r\n",
        "              continue\r\n",
        "          if lista[n] == 'b':\r\n",
        "            continue\r\n",
        "          if lista[n] == 'd':\r\n",
        "            continue\r\n",
        "          if lista[n] == 'c':\r\n",
        "            if lista[n+1] == 'c':\r\n",
        "              if lista[n+2] == 'c':\r\n",
        "                break\r\n",
        "            else:\r\n",
        "              continue\r\n",
        "          else:\r\n",
        "            break\r\n",
        "        n = n+2\r\n",
        "        for element in lista[n:-1]:\r\n",
        "          n = n+1\r\n",
        "          if lista[n] == 'a':\r\n",
        "            continue\r\n",
        "          if lista[n] == 'b':\r\n",
        "            if lista[n+1] == 'b':\r\n",
        "              if lista[n+2] == 'a':\r\n",
        "                aceptada = True\r\n",
        "                break\r\n",
        "            continue\r\n",
        "          if lista[n] == 'c':\r\n",
        "            continue\r\n",
        "          if lista[n] == 'd':\r\n",
        "            continue\r\n",
        "  if aceptada == True:\r\n",
        "    print(f\"La palabra {palabra} es aceptada :)\")\r\n",
        "  else:\r\n",
        "    print(f\"La palabra {palabra} NO es aceptada :(\")\r\n"
      ],
      "execution_count": 14,
      "outputs": []
    },
    {
      "cell_type": "code",
      "metadata": {
        "colab": {
          "base_uri": "https://localhost:8080/"
        },
        "id": "b0Pn28KfBSUB",
        "outputId": "e9cec65f-111f-4920-9c8a-ba6689881a99"
      },
      "source": [
        "automata(\"abcbbaddaaabcbdabba\")\r\n",
        "automata(\"abcbbaddbcbdabba\")"
      ],
      "execution_count": 15,
      "outputs": [
        {
          "output_type": "stream",
          "text": [
            "La palabra abcbbaddaaabcbdabba es aceptada :)\n",
            "La palabra abcbbaddbcbdabba NO es aceptada :(\n"
          ],
          "name": "stdout"
        }
      ]
    }
  ]
}